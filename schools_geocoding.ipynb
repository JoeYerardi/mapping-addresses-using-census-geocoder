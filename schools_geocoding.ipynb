{
 "cells": [
  {
   "cell_type": "markdown",
   "metadata": {},
   "source": [
    "# Mapping Addresses Using Census Geocoder"
   ]
  },
  {
   "cell_type": "markdown",
   "metadata": {},
   "source": [
    "In this Python notebook, I will demonstrate how to read in a csv of [San Diego County private school addresses](http://www.cde.ca.gov/ds/si/ps/), geocode the addresses using Requests and the [Census Geocoding Services API](https://www.census.gov/data/developers/data-sets/Geocoding-services.html) and merge the addresses with the original data source using Pandas."
   ]
  },
  {
   "cell_type": "code",
   "execution_count": 1,
   "metadata": {
    "collapsed": false
   },
   "outputs": [],
   "source": [
    "import pandas as pd\n",
    "import requests"
   ]
  },
  {
   "cell_type": "code",
   "execution_count": 2,
   "metadata": {
    "collapsed": false
   },
   "outputs": [
    {
     "data": {
      "text/html": [
       "<div>\n",
       "<table border=\"1\" class=\"dataframe\">\n",
       "  <thead>\n",
       "    <tr style=\"text-align: right;\">\n",
       "      <th></th>\n",
       "      <th>cds_code</th>\n",
       "      <th>school</th>\n",
       "      <th>street</th>\n",
       "      <th>city</th>\n",
       "      <th>state</th>\n",
       "      <th>zip</th>\n",
       "    </tr>\n",
       "  </thead>\n",
       "  <tbody>\n",
       "    <tr>\n",
       "      <th>0</th>\n",
       "      <td>3.776852e+13</td>\n",
       "      <td>Academia de Talar</td>\n",
       "      <td>31430 Calle de Talar</td>\n",
       "      <td>Bonsall</td>\n",
       "      <td>CA</td>\n",
       "      <td>92003</td>\n",
       "    </tr>\n",
       "    <tr>\n",
       "      <th>1</th>\n",
       "      <td>NaN</td>\n",
       "      <td>Academy of Future Men</td>\n",
       "      <td>5444 Mandarin Cove</td>\n",
       "      <td>San Diego</td>\n",
       "      <td>CA</td>\n",
       "      <td>92115</td>\n",
       "    </tr>\n",
       "    <tr>\n",
       "      <th>2</th>\n",
       "      <td>3.768339e+13</td>\n",
       "      <td>Academy of Our Lady of Peace</td>\n",
       "      <td>4860 Oregon Street</td>\n",
       "      <td>San Diego</td>\n",
       "      <td>CA</td>\n",
       "      <td>92116</td>\n",
       "    </tr>\n",
       "    <tr>\n",
       "      <th>3</th>\n",
       "      <td>NaN</td>\n",
       "      <td>Accelerated Academics, Inc.</td>\n",
       "      <td>6120 Paseo Del North, Suite L1</td>\n",
       "      <td>Carlsbad</td>\n",
       "      <td>CA</td>\n",
       "      <td>92011</td>\n",
       "    </tr>\n",
       "    <tr>\n",
       "      <th>4</th>\n",
       "      <td>3.775615e+13</td>\n",
       "      <td>Agnus Dei Academy</td>\n",
       "      <td>30639 Rabbit Run</td>\n",
       "      <td>Valley Center</td>\n",
       "      <td>CA</td>\n",
       "      <td>92082</td>\n",
       "    </tr>\n",
       "  </tbody>\n",
       "</table>\n",
       "</div>"
      ],
      "text/plain": [
       "       cds_code                        school                          street  \\\n",
       "0  3.776852e+13             Academia de Talar            31430 Calle de Talar   \n",
       "1           NaN         Academy of Future Men              5444 Mandarin Cove   \n",
       "2  3.768339e+13  Academy of Our Lady of Peace              4860 Oregon Street   \n",
       "3           NaN   Accelerated Academics, Inc.  6120 Paseo Del North, Suite L1   \n",
       "4  3.775615e+13             Agnus Dei Academy                30639 Rabbit Run   \n",
       "\n",
       "            city state    zip  \n",
       "0        Bonsall    CA  92003  \n",
       "1      San Diego    CA  92115  \n",
       "2      San Diego    CA  92116  \n",
       "3       Carlsbad    CA  92011  \n",
       "4  Valley Center    CA  92082  "
      ]
     },
     "execution_count": 2,
     "metadata": {},
     "output_type": "execute_result"
    }
   ],
   "source": [
    "schools = pd.read_csv('data/schools.csv')\n",
    "schools.head()"
   ]
  },
  {
   "cell_type": "markdown",
   "metadata": {},
   "source": [
    "The Census Geocoder requires batch files be in the format: unique ID, street, city, state, zip. As such, we need to drop the CDS code and school columns from our dataframe. Because we eventually want to end up with a dataframe that includes those columns, let's create a new dataframe without them instead of just dropping the columns from the original one."
   ]
  },
  {
   "cell_type": "code",
   "execution_count": 3,
   "metadata": {
    "collapsed": false
   },
   "outputs": [],
   "source": [
    "schools_for_geocoding = schools.drop(['cds_code','school'], axis=1)"
   ]
  },
  {
   "cell_type": "code",
   "execution_count": 4,
   "metadata": {
    "collapsed": false
   },
   "outputs": [
    {
     "data": {
      "text/html": [
       "<div>\n",
       "<table border=\"1\" class=\"dataframe\">\n",
       "  <thead>\n",
       "    <tr style=\"text-align: right;\">\n",
       "      <th></th>\n",
       "      <th>street</th>\n",
       "      <th>city</th>\n",
       "      <th>state</th>\n",
       "      <th>zip</th>\n",
       "    </tr>\n",
       "  </thead>\n",
       "  <tbody>\n",
       "    <tr>\n",
       "      <th>0</th>\n",
       "      <td>31430 Calle de Talar</td>\n",
       "      <td>Bonsall</td>\n",
       "      <td>CA</td>\n",
       "      <td>92003</td>\n",
       "    </tr>\n",
       "    <tr>\n",
       "      <th>1</th>\n",
       "      <td>5444 Mandarin Cove</td>\n",
       "      <td>San Diego</td>\n",
       "      <td>CA</td>\n",
       "      <td>92115</td>\n",
       "    </tr>\n",
       "    <tr>\n",
       "      <th>2</th>\n",
       "      <td>4860 Oregon Street</td>\n",
       "      <td>San Diego</td>\n",
       "      <td>CA</td>\n",
       "      <td>92116</td>\n",
       "    </tr>\n",
       "    <tr>\n",
       "      <th>3</th>\n",
       "      <td>6120 Paseo Del North, Suite L1</td>\n",
       "      <td>Carlsbad</td>\n",
       "      <td>CA</td>\n",
       "      <td>92011</td>\n",
       "    </tr>\n",
       "    <tr>\n",
       "      <th>4</th>\n",
       "      <td>30639 Rabbit Run</td>\n",
       "      <td>Valley Center</td>\n",
       "      <td>CA</td>\n",
       "      <td>92082</td>\n",
       "    </tr>\n",
       "  </tbody>\n",
       "</table>\n",
       "</div>"
      ],
      "text/plain": [
       "                           street           city state    zip\n",
       "0            31430 Calle de Talar        Bonsall    CA  92003\n",
       "1              5444 Mandarin Cove      San Diego    CA  92115\n",
       "2              4860 Oregon Street      San Diego    CA  92116\n",
       "3  6120 Paseo Del North, Suite L1       Carlsbad    CA  92011\n",
       "4                30639 Rabbit Run  Valley Center    CA  92082"
      ]
     },
     "execution_count": 4,
     "metadata": {},
     "output_type": "execute_result"
    }
   ],
   "source": [
    "schools_for_geocoding.head()"
   ]
  },
  {
   "cell_type": "markdown",
   "metadata": {},
   "source": [
    "Now we can export the dataframe as a csv for geocoding. By default, pandas saves the index as a column at the start of the csv. As such, we might as well use the index as the unique ID column the Census Geocoder requires. The Geocoder will also attempt to geocode the header row so let's leave that out."
   ]
  },
  {
   "cell_type": "code",
   "execution_count": 5,
   "metadata": {
    "collapsed": true
   },
   "outputs": [],
   "source": [
    "schools_for_geocoding.to_csv('data/schools_for_geocoding.csv', header=False)"
   ]
  },
  {
   "cell_type": "markdown",
   "metadata": {},
   "source": [
    "Now we will use Requests to call the Census Geocoding API, specifying the options we want (benchmark, vintage, etc.) and passing the csv file as part of the request. You can check out the Census Geocoding Services API documentation for all the available options."
   ]
  },
  {
   "cell_type": "code",
   "execution_count": 6,
   "metadata": {
    "collapsed": false,
    "scrolled": true
   },
   "outputs": [],
   "source": [
    "url = 'https://geocoding.geo.census.gov/geocoder/geographies/addressbatch'\n",
    "payload = {'benchmark':'Public_AR_Current','vintage':'Current_Current'}\n",
    "files = {'addressFile': ('data/schools_for_geocoding.csv', open('data/schools_for_geocoding.csv', 'rb'), 'text/csv')}\n",
    "r = requests.post(url, files=files, data = payload)"
   ]
  },
  {
   "cell_type": "markdown",
   "metadata": {},
   "source": [
    "Save the json response as a csv file."
   ]
  },
  {
   "cell_type": "code",
   "execution_count": 7,
   "metadata": {
    "collapsed": false
   },
   "outputs": [],
   "source": [
    "with open('data/geocoded_addresses.csv', 'w') as outfile:\n",
    "    outfile.writelines(r.text)\n",
    "outfile.close()"
   ]
  },
  {
   "cell_type": "markdown",
   "metadata": {},
   "source": [
    "If you inspect the file of geocoded addresses, you'll see there are lots of potentially useful geographic features returned. However, we don't need all these columns for our purposes here.  \n",
    "  \n",
    "We really only want the ID to merge the dataframe to the original schools dataframe, the input address to double check that the merge worked correctly, the match type and matched address to confirm the input address was correctly geocoded and, of course, the latitude and longitude. We'll also have to specify names for the columns we will be importing since the csv file lacks a header row."
   ]
  },
  {
   "cell_type": "code",
   "execution_count": 8,
   "metadata": {
    "collapsed": false
   },
   "outputs": [
    {
     "data": {
      "text/html": [
       "<div>\n",
       "<table border=\"1\" class=\"dataframe\">\n",
       "  <thead>\n",
       "    <tr style=\"text-align: right;\">\n",
       "      <th></th>\n",
       "      <th>id</th>\n",
       "      <th>input_address</th>\n",
       "      <th>match_type</th>\n",
       "      <th>matched_address</th>\n",
       "      <th>latitude</th>\n",
       "      <th>longitude</th>\n",
       "    </tr>\n",
       "  </thead>\n",
       "  <tbody>\n",
       "    <tr>\n",
       "      <th>0</th>\n",
       "      <td>35</td>\n",
       "      <td>9028 Westmore Road, San Diego, CA, 92126</td>\n",
       "      <td>Exact</td>\n",
       "      <td>9028 WESTMORE RD, SAN DIEGO, CA, 92126</td>\n",
       "      <td>-117.13123,32.916565</td>\n",
       "      <td>195318950.0</td>\n",
       "    </tr>\n",
       "    <tr>\n",
       "      <th>1</th>\n",
       "      <td>36</td>\n",
       "      <td>484 Vista Place, Chula Vista, CA, 91910</td>\n",
       "      <td>Exact</td>\n",
       "      <td>484 VISTA PL, CHULA VISTA, CA, 91910</td>\n",
       "      <td>-117.06671,32.637478</td>\n",
       "      <td>195356871.0</td>\n",
       "    </tr>\n",
       "    <tr>\n",
       "      <th>2</th>\n",
       "      <td>33</td>\n",
       "      <td>1114 Ninth  Avenue, Coronado, CA, 92118</td>\n",
       "      <td>Non_Exact</td>\n",
       "      <td>1114 9TH ST, CORONADO, CA, 92118</td>\n",
       "      <td>-117.17879,32.687214</td>\n",
       "      <td>636006778.0</td>\n",
       "    </tr>\n",
       "    <tr>\n",
       "      <th>3</th>\n",
       "      <td>159</td>\n",
       "      <td>4786 Caminito Borrego, San Diego, CA, 92130</td>\n",
       "      <td>NaN</td>\n",
       "      <td>NaN</td>\n",
       "      <td>NaN</td>\n",
       "      <td>NaN</td>\n",
       "    </tr>\n",
       "    <tr>\n",
       "      <th>4</th>\n",
       "      <td>34</td>\n",
       "      <td>7929 La Mesa Boulevard, La Mesa, CA, 91942</td>\n",
       "      <td>Exact</td>\n",
       "      <td>7929 LA MESA BLVD, LA MESA, CA, 91942</td>\n",
       "      <td>-117.02656,32.764984</td>\n",
       "      <td>195359317.0</td>\n",
       "    </tr>\n",
       "  </tbody>\n",
       "</table>\n",
       "</div>"
      ],
      "text/plain": [
       "    id                                input_address match_type  \\\n",
       "0   35     9028 Westmore Road, San Diego, CA, 92126      Exact   \n",
       "1   36      484 Vista Place, Chula Vista, CA, 91910      Exact   \n",
       "2   33      1114 Ninth  Avenue, Coronado, CA, 92118  Non_Exact   \n",
       "3  159  4786 Caminito Borrego, San Diego, CA, 92130        NaN   \n",
       "4   34   7929 La Mesa Boulevard, La Mesa, CA, 91942      Exact   \n",
       "\n",
       "                          matched_address              latitude    longitude  \n",
       "0  9028 WESTMORE RD, SAN DIEGO, CA, 92126  -117.13123,32.916565  195318950.0  \n",
       "1    484 VISTA PL, CHULA VISTA, CA, 91910  -117.06671,32.637478  195356871.0  \n",
       "2        1114 9TH ST, CORONADO, CA, 92118  -117.17879,32.687214  636006778.0  \n",
       "3                                     NaN                   NaN          NaN  \n",
       "4   7929 LA MESA BLVD, LA MESA, CA, 91942  -117.02656,32.764984  195359317.0  "
      ]
     },
     "execution_count": 8,
     "metadata": {},
     "output_type": "execute_result"
    }
   ],
   "source": [
    "geocoded_addresses = pd.read_csv('data/geocoded_addresses.csv', usecols=[0,1,3,4,5,6], \n",
    "                               names=['id','input_address','match','match_type','matched_address','latitude','longitude','side','state','county','tract','block']\n",
    "                              )\n",
    "geocoded_addresses.head()"
   ]
  },
  {
   "cell_type": "markdown",
   "metadata": {},
   "source": [
    "And now we can merge the dataframe of geocoded addresses with the original schools dataframe that contains the CDS code and name for each school."
   ]
  },
  {
   "cell_type": "code",
   "execution_count": 9,
   "metadata": {
    "collapsed": false
   },
   "outputs": [
    {
     "data": {
      "text/html": [
       "<div>\n",
       "<table border=\"1\" class=\"dataframe\">\n",
       "  <thead>\n",
       "    <tr style=\"text-align: right;\">\n",
       "      <th></th>\n",
       "      <th>cds_code</th>\n",
       "      <th>school</th>\n",
       "      <th>street</th>\n",
       "      <th>city</th>\n",
       "      <th>state</th>\n",
       "      <th>zip</th>\n",
       "      <th>input_address</th>\n",
       "      <th>match_type</th>\n",
       "      <th>matched_address</th>\n",
       "      <th>latitude</th>\n",
       "      <th>longitude</th>\n",
       "    </tr>\n",
       "  </thead>\n",
       "  <tbody>\n",
       "    <tr>\n",
       "      <th>51</th>\n",
       "      <td>3.776852e+13</td>\n",
       "      <td>Academia de Talar</td>\n",
       "      <td>31430 Calle de Talar</td>\n",
       "      <td>Bonsall</td>\n",
       "      <td>CA</td>\n",
       "      <td>92003</td>\n",
       "      <td>31430 Calle de Talar, Bonsall, CA, 92003</td>\n",
       "      <td>Non_Exact</td>\n",
       "      <td>31430 CLL DE TALAR, BONSALL, CA, 92003</td>\n",
       "      <td>-117.168106,33.28461</td>\n",
       "      <td>195742062.0</td>\n",
       "    </tr>\n",
       "    <tr>\n",
       "      <th>49</th>\n",
       "      <td>NaN</td>\n",
       "      <td>Academy of Future Men</td>\n",
       "      <td>5444 Mandarin Cove</td>\n",
       "      <td>San Diego</td>\n",
       "      <td>CA</td>\n",
       "      <td>92115</td>\n",
       "      <td>5444 Mandarin Cove, San Diego, CA, 92115</td>\n",
       "      <td>Exact</td>\n",
       "      <td>5444 MANDARIN COVE, SAN DIEGO, CA, 92115</td>\n",
       "      <td>-117.07778,32.75263</td>\n",
       "      <td>612897107.0</td>\n",
       "    </tr>\n",
       "    <tr>\n",
       "      <th>46</th>\n",
       "      <td>3.768339e+13</td>\n",
       "      <td>Academy of Our Lady of Peace</td>\n",
       "      <td>4860 Oregon Street</td>\n",
       "      <td>San Diego</td>\n",
       "      <td>CA</td>\n",
       "      <td>92116</td>\n",
       "      <td>4860 Oregon Street, San Diego, CA, 92116</td>\n",
       "      <td>Exact</td>\n",
       "      <td>4860 OREGON ST, SAN DIEGO, CA, 92116</td>\n",
       "      <td>-117.135155,32.765354</td>\n",
       "      <td>195345213.0</td>\n",
       "    </tr>\n",
       "    <tr>\n",
       "      <th>44</th>\n",
       "      <td>NaN</td>\n",
       "      <td>Accelerated Academics, Inc.</td>\n",
       "      <td>6120 Paseo Del North, Suite L1</td>\n",
       "      <td>Carlsbad</td>\n",
       "      <td>CA</td>\n",
       "      <td>92011</td>\n",
       "      <td>6120 Paseo Del North, Suite L1, Carlsbad, CA, ...</td>\n",
       "      <td>NaN</td>\n",
       "      <td>NaN</td>\n",
       "      <td>NaN</td>\n",
       "      <td>NaN</td>\n",
       "    </tr>\n",
       "    <tr>\n",
       "      <th>59</th>\n",
       "      <td>3.775615e+13</td>\n",
       "      <td>Agnus Dei Academy</td>\n",
       "      <td>30639 Rabbit Run</td>\n",
       "      <td>Valley Center</td>\n",
       "      <td>CA</td>\n",
       "      <td>92082</td>\n",
       "      <td>30639 Rabbit Run, Valley Center, CA, 92082</td>\n",
       "      <td>Exact</td>\n",
       "      <td>30639 RABBIT RUN, VALLEY CENTER, CA, 92082</td>\n",
       "      <td>-117.00871,33.263508</td>\n",
       "      <td>195385805.0</td>\n",
       "    </tr>\n",
       "  </tbody>\n",
       "</table>\n",
       "</div>"
      ],
      "text/plain": [
       "        cds_code                        school  \\\n",
       "51  3.776852e+13             Academia de Talar   \n",
       "49           NaN         Academy of Future Men   \n",
       "46  3.768339e+13  Academy of Our Lady of Peace   \n",
       "44           NaN   Accelerated Academics, Inc.   \n",
       "59  3.775615e+13             Agnus Dei Academy   \n",
       "\n",
       "                            street           city state    zip  \\\n",
       "51            31430 Calle de Talar        Bonsall    CA  92003   \n",
       "49              5444 Mandarin Cove      San Diego    CA  92115   \n",
       "46              4860 Oregon Street      San Diego    CA  92116   \n",
       "44  6120 Paseo Del North, Suite L1       Carlsbad    CA  92011   \n",
       "59                30639 Rabbit Run  Valley Center    CA  92082   \n",
       "\n",
       "                                        input_address match_type  \\\n",
       "51           31430 Calle de Talar, Bonsall, CA, 92003  Non_Exact   \n",
       "49           5444 Mandarin Cove, San Diego, CA, 92115      Exact   \n",
       "46           4860 Oregon Street, San Diego, CA, 92116      Exact   \n",
       "44  6120 Paseo Del North, Suite L1, Carlsbad, CA, ...        NaN   \n",
       "59         30639 Rabbit Run, Valley Center, CA, 92082      Exact   \n",
       "\n",
       "                               matched_address               latitude  \\\n",
       "51      31430 CLL DE TALAR, BONSALL, CA, 92003   -117.168106,33.28461   \n",
       "49    5444 MANDARIN COVE, SAN DIEGO, CA, 92115    -117.07778,32.75263   \n",
       "46        4860 OREGON ST, SAN DIEGO, CA, 92116  -117.135155,32.765354   \n",
       "44                                         NaN                    NaN   \n",
       "59  30639 RABBIT RUN, VALLEY CENTER, CA, 92082   -117.00871,33.263508   \n",
       "\n",
       "      longitude  \n",
       "51  195742062.0  \n",
       "49  612897107.0  \n",
       "46  195345213.0  \n",
       "44          NaN  \n",
       "59  195385805.0  "
      ]
     },
     "execution_count": 9,
     "metadata": {},
     "output_type": "execute_result"
    }
   ],
   "source": [
    "geocoded_schools = pd.merge(schools, geocoded_addresses, left_index=True, right_on='id')\n",
    "geocoded_schools.drop('id', axis=1, inplace=True) # Drop the id column as we no longer need it post-merge\n",
    "geocoded_schools.head()"
   ]
  },
  {
   "cell_type": "markdown",
   "metadata": {},
   "source": [
    "And there you have it: a dataframe of geocoded private schools in San Diego County."
   ]
  },
  {
   "cell_type": "code",
   "execution_count": null,
   "metadata": {
    "collapsed": true
   },
   "outputs": [],
   "source": []
  }
 ],
 "metadata": {
  "kernelspec": {
   "display_name": "Python 3",
   "language": "python",
   "name": "python3"
  },
  "language_info": {
   "codemirror_mode": {
    "name": "ipython",
    "version": 3
   },
   "file_extension": ".py",
   "mimetype": "text/x-python",
   "name": "python",
   "nbconvert_exporter": "python",
   "pygments_lexer": "ipython3",
   "version": "3.6.0"
  }
 },
 "nbformat": 4,
 "nbformat_minor": 2
}
